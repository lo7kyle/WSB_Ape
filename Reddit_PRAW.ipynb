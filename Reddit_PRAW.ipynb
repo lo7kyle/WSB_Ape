{
 "cells": [
  {
   "cell_type": "code",
   "execution_count": 1,
   "id": "1e04259c",
   "metadata": {},
   "outputs": [],
   "source": [
    "# Import the dependencies.\n",
    "from datetime import datetime\n",
    "from pprint import pprint \n",
    "import pandas as pd\n",
    "import matplotlib.pyplot as plt\n",
    "import numpy as np\n",
    "import requests\n",
    "import time\n",
    "import seaborn as sns\n",
    "from config import SECRET_TOKEN, PUBLIC_TOKEN, USERNAME, PASSWORD"
   ]
  },
  {
   "cell_type": "code",
   "execution_count": 2,
   "id": "f5ba0907",
   "metadata": {},
   "outputs": [],
   "source": [
    "import praw\n",
    "user_agent = f\"Scraper 1.0 by /u/{USERNAME}\"\n",
    "reddit = praw.Reddit(\n",
    "    client_id = PUBLIC_TOKEN,\n",
    "    client_secret = SECRET_TOKEN,\n",
    "    user_agent = user_agent,\n",
    "    username= USERNAME,\n",
    "    password= PASSWORD\n",
    ")"
   ]
  },
  {
   "cell_type": "code",
   "execution_count": null,
   "id": "7c1b34c0",
   "metadata": {},
   "outputs": [],
   "source": []
  }
 ],
 "metadata": {
  "kernelspec": {
   "display_name": "mlenv",
   "language": "python",
   "name": "mlenv"
  },
  "language_info": {
   "codemirror_mode": {
    "name": "ipython",
    "version": 3
   },
   "file_extension": ".py",
   "mimetype": "text/x-python",
   "name": "python",
   "nbconvert_exporter": "python",
   "pygments_lexer": "ipython3",
   "version": "3.7.10"
  }
 },
 "nbformat": 4,
 "nbformat_minor": 5
}
